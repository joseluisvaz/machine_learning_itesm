{
 "cells": [
  {
   "cell_type": "markdown",
   "metadata": {},
   "source": [
    "# Class Generation for homework 1\n",
    "## Jose Vazquez-Espinoza"
   ]
  },
  {
   "cell_type": "code",
   "execution_count": 6,
   "metadata": {
    "collapsed": true
   },
   "outputs": [],
   "source": [
    "import numpy as np\n",
    "import matplotlib.pyplot as plt\n",
    "import pandas as pd\n",
    "import random"
   ]
  },
  {
   "cell_type": "markdown",
   "metadata": {},
   "source": [
    "This is a function to create non linearly separable classes"
   ]
  },
  {
   "cell_type": "code",
   "execution_count": 8,
   "metadata": {
    "collapsed": true
   },
   "outputs": [],
   "source": [
    "def makering(r_i, thickness, N = 1000, phi = 2*np.pi, phi_0 = 0, offset = (0,0)):\n",
    "    \"\"\"\n",
    "    Generates datapoints inside a ring of initial radius and thickness\n",
    "\n",
    "    :param r_i: initial radius\n",
    "    :param thickness: thickness\n",
    "    :param offset: default = (0,0): tuple wiith x and y offsets\n",
    "    :param N: default 1000 : Number of samples\n",
    "    :param phi: default 2*np.pi :  range of rings angle\n",
    "    :param phi_0: default 0 : initial angle to start drawing the ring\n",
    "    :return: x and y datapoints as a numpy.array with shape(n,2)\n",
    "    \"\"\"\n",
    "    theta = []\n",
    "    radius = []\n",
    "    for i in range(N):\n",
    "        theta.append(random.uniform(phi_0, phi_0 + phi))\n",
    "        radius.append(random.uniform(r_i, r_i + thickness))\n",
    "\n",
    "    xvals = []\n",
    "    yvals = []\n",
    "    for i in range(N):\n",
    "        xvals.append(offset[0] + radius[i] * np.cos(theta[i]))\n",
    "        yvals.append(offset[1] + radius[i] * np.sin(theta[i]))\n",
    "\n",
    "    #Creating final numpy array\n",
    "    xvals = np.reshape(np.array(xvals), (len(xvals), 1))\n",
    "    yvals = np.reshape(np.array(yvals), (len(yvals), 1))\n",
    "    ring = np.concatenate([xvals, yvals], axis = 1)\n",
    "\n",
    "    return ring\n"
   ]
  },
  {
   "cell_type": "markdown",
   "metadata": {},
   "source": [
    "Generate three classes in R^2, c1, c2, c3 under cases\n",
    "\n",
    "* Case 1: c1, c2 are linearly separable"
   ]
  },
  {
   "cell_type": "code",
   "execution_count": 4,
   "metadata": {
    "collapsed": true
   },
   "outputs": [],
   "source": [
    "std = [[0.5, 0],[0, 0.5]]\n",
    "\n",
    "#GENERATE LINEARLY SEPARABLE CLASSES\n",
    "\n",
    "c1 = np.random.multivariate_normal([1, 2], std, 1000);\n",
    "c2 = np.random.multivariate_normal([2, 1], std, 1000);\n",
    "c3 = np.random.multivariate_normal([3, 2], std, 1000);\n",
    "\n",
    "labelsc1 = np.ones((c1.shape[0], 1))\n",
    "labelsc2 = -1 * np.ones((c2.shape[0], 1))\n",
    "\n",
    "Xdata1 = np.concatenate([c1, c2])\n",
    "Ydata1 = np.concatenate([labelsc1, labelsc2])\n",
    "\n",
    "twoclasslinear = np.concatenate([Xdata1,Ydata1], axis = 1)\n",
    "\n",
    "#converting into dataframe and sending it to a csv file\n",
    "dftwoclasslinear = pd.DataFrame(twoclasslinear)\n",
    "dftwoclasslinear.columns = ['x1', 'x2', 'y']\n",
    "dftwoclasslinear = dftwoclasslinear.sample(frac = 1)\n",
    "dftwoclasslinear.to_csv(\"dataSamples/twoclasslinear.csv\", index=False)\n",
    "\n",
    "#Labels for multi-class classifier\n",
    "labelsw1 = np.array([np.array([1.0, 0, 0]) for i in c1])\n",
    "labelsw2 = np.array([np.array([0, 1.0, 0]) for i in c2])\n",
    "labelsw3 = np.array([np.array([0, 0, 1.0]) for i in c3])\n",
    "Ydata2 = np.concatenate([labelsw1, labelsw2, labelsw3])\n",
    "Xdata2 = np.concatenate([c1, c2, c3])\n",
    "\n",
    "threeclasslinear = np.concatenate([Xdata2,Ydata2], axis = 1)\n",
    "\n",
    "#converting into dataframe and sending it to a csv file\n",
    "dfthreeclasslinear = pd.DataFrame(threeclasslinear)\n",
    "dfthreeclasslinear.columns = ['x1', 'x2', 'y1', 'y2', 'y3']\n",
    "dfthreeclasslinear = dfthreeclasslinear.sample(frac = 1)\n",
    "dfthreeclasslinear.to_csv(\"dataSamples/threeclasslinear.csv\", index=False)"
   ]
  },
  {
   "cell_type": "markdown",
   "metadata": {},
   "source": [
    "* Case 2: Some of the classes are not linearly separable"
   ]
  },
  {
   "cell_type": "code",
   "execution_count": 9,
   "metadata": {
    "collapsed": true
   },
   "outputs": [],
   "source": [
    "# GENERATE NOT LINEARLY SEPARABLE CLASSES\n",
    "ring1 = makering(0.5, 0.5)\n",
    "ring2 = makering(1.5, 0.5)\n",
    "ring3 = makering(2.5, 0.5)\n",
    "\n",
    "labelsr1 = np.ones((ring1.shape[0], 1))\n",
    "labelsr2 = -1 * np.ones((ring1.shape[0],1))\n",
    "\n",
    "Xdata3 = np.concatenate([ring1, ring2])\n",
    "Ydata3 = np.concatenate([labelsr1, labelsr2])\n",
    "\n",
    "twoclassnotlinear = np.concatenate([Xdata3,Ydata3], axis = 1)\n",
    "\n",
    "#converting into dataframe and sending it to a csv file\n",
    "dftwoclassnotlinear = pd.DataFrame(twoclassnotlinear)\n",
    "dftwoclassnotlinear.columns = ['x1', 'x2', 'y']\n",
    "dftwoclassnotlinear = dftwoclassnotlinear.sample(frac = 1)\n",
    "dftwoclassnotlinear.to_csv(\"dataSamples/twoclassnotlinear.csv\", index=False)\n",
    "\n",
    "\n",
    "#Labels for multi-class classifier\n",
    "labelsn1 = np.array([np.array([1.0, 0, 0]) for i in ring1])\n",
    "labelsn2 = np.array([np.array([0, 1.0, 0]) for i in ring2])\n",
    "labelsn3 = np.array([np.array([0, 0, 1.0]) for i in ring3])\n",
    "Ydata4 = np.concatenate([labelsn1, labelsn2, labelsn3])\n",
    "Xdata4 = np.concatenate([ring1, ring2, ring3])\n",
    "\n",
    "threeclassnotlinear = np.concatenate([Xdata4,Ydata4], axis = 1)\n",
    "\n",
    "#converting into dataframe and sending it to a csv file\n",
    "dfthreeclassnotlinear = pd.DataFrame(threeclassnotlinear)\n",
    "dfthreeclassnotlinear.columns = ['x1', 'x2', 'y1', 'y2', 'y3']\n",
    "dfthreeclassnotlinear = dfthreeclassnotlinear.sample(frac = 1)\n",
    "dfthreeclassnotlinear.to_csv(\"dataSamples/threeclassnotlinear.csv\", index=False)"
   ]
  },
  {
   "cell_type": "code",
   "execution_count": null,
   "metadata": {
    "collapsed": true
   },
   "outputs": [],
   "source": []
  }
 ],
 "metadata": {
  "kernelspec": {
   "display_name": "Python 2",
   "language": "python",
   "name": "python2"
  },
  "language_info": {
   "codemirror_mode": {
    "name": "ipython",
    "version": 2
   },
   "file_extension": ".py",
   "mimetype": "text/x-python",
   "name": "python",
   "nbconvert_exporter": "python",
   "pygments_lexer": "ipython2",
   "version": "2.7.13"
  }
 },
 "nbformat": 4,
 "nbformat_minor": 2
}
