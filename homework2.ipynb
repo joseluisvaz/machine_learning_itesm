{
 "cells": [
  {
   "cell_type": "markdown",
   "metadata": {},
   "source": [
    "# Machine Learning: Homework 2\n",
    "## Jose Vazquez-Espinoza\n",
    "\n",
    "codigo y libreria en: https://github.com/joseluisvaz/machine_learning_itesm"
   ]
  },
  {
   "cell_type": "code",
   "execution_count": 30,
   "metadata": {
    "collapsed": true
   },
   "outputs": [],
   "source": [
    "import numpy as np\n",
    "import matplotlib.pyplot as plt\n",
    "import pandas as pd\n",
    "import random\n",
    "\n",
    "#Import own library\n",
    "import ML_Algorithms.LinearMethods as lm\n",
    "import ML_Algorithms.GradientDescent as gd\n",
    "\n",
    "#Import Already generated classes\n",
    "\n",
    "linear2class = pd.read_csv(\"dataSamples/twoclasslinear.csv\")\n",
    "notlinear2class = pd.read_csv(\"dataSamples/twoclassnotlinear.csv\")\n",
    "linear3class = pd.read_csv(\"dataSamples/threeclasslinear.csv\")\n",
    "notlinear3class = pd.read_csv(\"dataSamples/threeclassnotlinear.csv\")"
   ]
  },
  {
   "cell_type": "markdown",
   "metadata": {},
   "source": [
    "Here, we are going to plot our linearly separable classes and use linear classification"
   ]
  },
  {
   "cell_type": "code",
   "execution_count": 2,
   "metadata": {},
   "outputs": [
    {
     "data": {
      "image/png": "[encoded data removed]",
      "text/plain": [
       "<matplotlib.figure.Figure at 0x7f29e16009b0>"
      ]
     },
     "metadata": {},
     "output_type": "display_data"
    }
   ],
   "source": [
    "plt.scatter(linear2class[linear2class[\"y\"] == 1][\"x1\"], linear2class[linear2class[\"y\"] == 1][\"x2\"], color = 'r', s=1)\n",
    "plt.scatter(linear2class[linear2class[\"y\"] == -1][\"x1\"], linear2class[linear2class[\"y\"] == -1][\"x2\"], color = 'b', s=1)\n",
    "plt.show()\n"
   ]
  },
  {
   "cell_type": "markdown",
   "metadata": {},
   "source": [
    "Aqui vamos a crear un clasificador usando el metodo de gradient descent, se puede observar como los coeficientes convergen conforme aumentann las iteraciones"
   ]
  },
  {
   "cell_type": "code",
   "execution_count": 10,
   "metadata": {},
   "outputs": [
    {
     "name": "stdout",
     "output_type": "stream",
     "text": [
      "coef:[ 0.         -0.00705715  0.00708496]\ncoef:[ 0.00507026 -0.48829077  0.50742387]\ncoef:[ 0.00506196 -0.48828828  0.50742643]\ncoef:[ 0.0050616  -0.48828817  0.50742654]\ncoef:[ 0.00506158 -0.48828816  0.50742655]\ncoef:[ 0.00506158 -0.48828816  0.50742655]\ncoef:[ 0.00506158 -0.48828816  0.50742655]\ncoef:[ 0.00506158 -0.48828816  0.50742655]\ncoef:[ 0.00506158 -0.48828816  0.50742655]\ncoef:[ 0.00506158 -0.48828816  0.50742655]\n"
     ]
    },
    {
     "data": {
      "text/plain": [
       "array([ 0.00111093, -0.49491119,  0.5010604 ])"
      ]
     },
     "execution_count": 10,
     "metadata": {},
     "output_type": "execute_result"
    }
   ],
   "source": [
    "#Creating a classifier \n",
    "\n",
    "Xdata2linear = linear2class[[\"x1\", \"x2\"]].as_matrix()\n",
    "Ydata2linear = linear2class[[\"y\"]].as_matrix()\n",
    "\n",
    "clf = gd.GradientClassifier()\n",
    "clf.fit(Xdata2linear, Ydata2linear, step=\"fixed\", reg=0, \n",
    "        print_iter=True, step_size= 0.01, max_iter=1000)\n",
    "clf.coef"
   ]
  },
  {
   "cell_type": "markdown",
   "metadata": {},
   "source": [
    "Se implemento la busqueda del step size optimo pero no logro converger tan rapido"
   ]
  },
  {
   "cell_type": "code",
   "execution_count": 12,
   "metadata": {},
   "outputs": [
    {
     "name": "stdout",
     "output_type": "stream",
     "text": [
      "coef:[ 0.         -0.00025869  0.00025971]\ncoef:[  2.86724602e-05  -2.60806715e-02   2.62779751e-02]\ncoef:[ 0.0001067  -0.05182097  0.05237696]\n"
     ]
    },
    {
     "name": "stdout",
     "output_type": "stream",
     "text": [
      "coef:[ 0.00022425 -0.0774956   0.07854041]\ncoef:[ 0.00037305 -0.10311817  0.10475468]\ncoef:[ 0.00054616 -0.12870011  0.13100846]\n"
     ]
    },
    {
     "name": "stdout",
     "output_type": "stream",
     "text": [
      "coef:[ 0.00073787 -0.15425089  0.15729245]\ncoef:[ 0.00094353 -0.17977822  0.1835991 ]\ncoef:[ 0.0011594  -0.20528832  0.20992238]\n"
     ]
    },
    {
     "name": "stdout",
     "output_type": "stream",
     "text": [
      "coef:[ 0.00138254 -0.23078607  0.23625756]\ncoef:[ 0.00161067 -0.25627525  0.262601  ]\ncoef:[ 0.00184208 -0.28175867  0.28894998]\n"
     ]
    },
    {
     "name": "stdout",
     "output_type": "stream",
     "text": [
      "coef:[ 0.0020755  -0.30723841  0.3153025 ]\ncoef:[ 0.00231002 -0.3327159   0.34165719]\ncoef:[ 0.00254499 -0.35819207  0.36801314]\ncoef:[ 0.00277995 -0.38366751  0.39436981]\n"
     ]
    },
    {
     "name": "stdout",
     "output_type": "stream",
     "text": [
      "coef:[ 0.00301446 -0.4091425   0.42072691]\ncoef:[ 0.00324802 -0.43461708  0.44708442]\ncoef:[ 0.00347938 -0.46009096  0.47344262]\ncoef:[ 0.00370048 -0.48556171  0.49980394]\n"
     ]
    },
    {
     "name": "stdout",
     "output_type": "stream",
     "text": [
      "coef:[ 0.00359877 -0.49074064  0.50506919]\ncoef:[ 0.00359869 -0.49074062  0.50506921]\ncoef:[ 0.00359869 -0.49074062  0.50506921]\ncoef:[ 0.00359869 -0.49074062  0.50506921]\n"
     ]
    },
    {
     "name": "stdout",
     "output_type": "stream",
     "text": [
      "coef:[ 0.00359869 -0.49074062  0.50506921]\ncoef:[ 0.00359869 -0.49074062  0.50506921]\ncoef:[ 0.00359869 -0.49074062  0.50506921]\n"
     ]
    },
    {
     "name": "stdout",
     "output_type": "stream",
     "text": [
      "coef:[ 0.00359869 -0.49074062  0.50506921]\ncoef:[ 0.00359869 -0.49074062  0.50506921]\ncoef:[ 0.00359869 -0.49074062  0.50506921]\n"
     ]
    },
    {
     "data": {
      "text/plain": [
       "array([ 0.0037435 , -0.49049784,  0.50530258])"
      ]
     },
     "execution_count": 12,
     "metadata": {},
     "output_type": "execute_result"
    }
   ],
   "source": [
    "clf = gd.GradientClassifier()\n",
    "clf.fit(Xdata2linear, Ydata2linear, step=\"golden\", reg=0, print_iter=True, max_iter=3000)\n",
    "clf.coef"
   ]
  },
  {
   "cell_type": "markdown",
   "metadata": {},
   "source": [
    "Aqui se puede ver que los valores de theta son los mismos que los de la solucion canonica"
   ]
  },
  {
   "cell_type": "code",
   "execution_count": 14,
   "metadata": {},
   "outputs": [
    {
     "data": {
      "text/plain": [
       "array([[ 0.00364501],\n       [-0.49058924],\n       [ 0.50506884]])"
      ]
     },
     "execution_count": 14,
     "metadata": {},
     "output_type": "execute_result"
    }
   ],
   "source": [
    "clf2classes = lm.LinearClassifier()\n",
    "clf2classes.fit(Xdata2linear, Ydata2linear, reg = 0.3)\n",
    "\n",
    "clf2classes.coef"
   ]
  },
  {
   "cell_type": "markdown",
   "metadata": {},
   "source": [
    "Wrapping the method and  trying regularization values from 0 to 100 in unit increments"
   ]
  },
  {
   "cell_type": "code",
   "execution_count": 15,
   "metadata": {},
   "outputs": [],
   "source": [
    "coefs = []\n",
    "for i in range(0,100):\n",
    "    clf.fit(Xdata2linear, Ydata2linear, step=\"fixed\", reg=i,\n",
    "            step_size= 0.01, max_iter=1000)\n",
    "    coefs.append(clf.coef)"
   ]
  },
  {
   "cell_type": "code",
   "execution_count": 29,
   "metadata": {},
   "outputs": [
    {
     "data": {
      "image/png": "[encoded data removed]",
      "text/plain": [
       "<matplotlib.figure.Figure at 0x7f29e135fe48>"
      ]
     },
     "metadata": {},
     "output_type": "display_data"
    }
   ],
   "source": [
    "coefs = np.array(coefs)\n",
    "l = np.linspace(0, 100,100)\n",
    "\n",
    "plt.subplot(3, 1, 1)\n",
    "plt.plot(l, coefs[:,0], 'b')\n",
    "plt.title('coef 1 2 and 3')\n",
    "\n",
    "plt.subplot(3, 1, 2)\n",
    "plt.plot(l, coefs[:,1], 'r')\n",
    "plt.subplot(3, 1, 3)\n",
    "plt.plot(l, coefs[:,2], 'g')\n",
    "\n",
    "\n",
    "plt.show()"
   ]
  }
 ],
 "metadata": {
  "kernelspec": {
   "display_name": "Python 3",
   "language": "python",
   "name": "python3"
  },
  "language_info": {
   "codemirror_mode": {
    "name": "ipython",
    "version": 3
   },
   "file_extension": ".py",
   "mimetype": "text/x-python",
   "name": "python",
   "nbconvert_exporter": "python",
   "pygments_lexer": "ipython3",
   "version": "3.6.1"
  }
 },
 "nbformat": 4,
 "nbformat_minor": 2
}
