{
 "cells": [
  {
   "cell_type": "markdown",
   "metadata": {},
   "source": [
    "# Machine Learning: Homework 3 - Jose Vazquez-Espinoza\n",
    "\n",
    "Algorithm's implementation in: https://github.com/"
   ]
  },
  {
   "cell_type": "markdown",
   "metadata": {},
   "source": [
    "## Part 1:\n",
    "\n",
    "EM as a minorization algorithm (Hunter and Lange, 2004; Wu and Lange, 2007). A function $g(x,y)$ to said to minorize a function $f(x)$ if\n",
    "\n",
    "$$g(x,y) \\leq f(x), g(x,x) = f(x)$$\n",
    "\n",
    "for all $x, y$ in the domain. This is useful for maximizing $f(x)$ since is easy to show that $f(x)$ is non-decreasing under the update\n",
    "\n",
    "$$x^{s+1} = argmax_x g(x,x^s)$$\n",
    "\n",
    "There are analogous definitions for majorization, for minimizing a function $f(x)$. The resulting algorithms are known as MM algorithms, for “Minorize-Maximize” or “Majorize-Minimize.”\n",
    "\n",
    "Show that the EM algorithm (Section 8.5.2) is an example of an MM al-gorithm, using $Q(\\theta′,\\theta)+\\log P(Z|\\theta)−Q(\\theta, \\theta)$ to minorize the observed data log-likelihood $l(\\theta′; Z)$. (Note that only the first term involves the relevant\n",
    "parameter $\\theta′$)."
   ]
  },
  {
   "cell_type": "markdown",
   "metadata": {},
   "source": [
    "## Part 2:\n",
    "\n",
    "### Problem (a):\n",
    "Consider a Gaussian mixture model in which the marginal distribution $p(z)$ for the latent variable is given by (9.10), and the conditional distribution $p(x|z)$ for the observed variable is given by (9.11). Show that the marginal distribution $p(x)$, obtained by summing $p(z)p(x|z)$ over all possible values of $z$, is a Gaussian\n",
    "mixture of the form (9.7).\n",
    "\n",
    "### Problem (b):\n",
    "Consider a mixture distribution of the form\n",
    "$$p(x) = \\sum_{k=1}^K \\pi_k p(\\mathbf{x}|k)$$\n",
    "where the elements of $x$ could be discrete or continuous or a combination of these.\n",
    "Denote the mean and covariance of $p(x|k)$ by $μ_k$ and $\\Sigma_k$ , respectively. Show that\n",
    "the mean and covariance of the mixture distribution are given by (9.49) and (9.50)."
   ]
  },
  {
   "cell_type": "markdown",
   "metadata": {},
   "source": [
    "## Part 3:\n",
    "\n",
    "Implement using Python the EM algorithm for the mixture of Gaussians. After this:\n",
    "1. Create two classes composed of k Gaussians splitting the set in\n",
    "\n",
    "    1. 90% random training data\n",
    "    2. 10% random testing data\n",
    "    \n",
    "    \n",
    "2. Adjust the Gaussian Mixture to such classes.\n",
    "3. Use naive Bayesian classification to build the Confusion Matrix of your experiments"
   ]
  },
  {
   "cell_type": "code",
   "execution_count": 52,
   "metadata": {},
   "outputs": [],
   "source": [
    "import numpy as np\n",
    "import math\n",
    "import matplotlib.pyplot as plt\n",
    "import seaborn as sns\n",
    "import random\n",
    "from scipy.stats import multivariate_normal\n",
    "%matplotlib inline"
   ]
  },
  {
   "cell_type": "code",
   "execution_count": 31,
   "metadata": {
    "collapsed": true
   },
   "outputs": [],
   "source": [
    "class UnivariateGaussian:\n",
    "    \"Univariate Gaussian\"\n",
    "    def __init__(self, mu, sigma):\n",
    "        self.mu = float(mu)\n",
    "        self.sigma = float(sigma)\n",
    "\n",
    "    def pdf(self, datapoint):\n",
    "        \"Probability dennsity function of univariate gaussian/normal distribution\"\n",
    "        z = (datapoint - self.mu)/ abs(self.sigma)\n",
    "        p_x = (1/(np.sqrt(2*self.sigma) * self.sigma))*np.exp(-z * z /2)\n",
    "        return p_x\n",
    "\n",
    "    def __repr__(self):\n",
    "        return 'Gaussian({0:4.6}, {1:4.6})'.format(self.mu, self.sigma)"
   ]
  },
  {
   "cell_type": "code",
   "execution_count": 421,
   "metadata": {
    "collapsed": true
   },
   "outputs": [],
   "source": [
    "class MultivariateGaussian:\n",
    "    \"\"\"\n",
    "    Implementation of Multivariate Gaussian Distribution\n",
    "    \"\"\"\n",
    "    def __init__(self, mu, sigma):\n",
    "        \"\"\"\n",
    "        Initialization of a Multivariate Gaussian distribution, we do precomputation to \n",
    "        avoid extra computation in further methods.\n",
    "        :param mu: Vertical vector of the mean\n",
    "        :param sigma: Covariance Matrix\n",
    "        \"\"\"\n",
    "        self.mu = mu\n",
    "        self.sigma = sigma\n",
    "        self.inv_sigma = np.linalg.pinv(sigma)\n",
    "        self.det_sigma = np.linalg.det(sigma)\n",
    "    \n",
    "    def pdf(self, x):\n",
    "        \"\"\"\n",
    "        Estimating probability at a single point\n",
    "        :param x: datapoint must be the same size as mu \n",
    "        :return: probability of this datapoint\n",
    "        \"\"\"\n",
    "        if x.shape != (x.shape[0],1):\n",
    "            x = x.reshape((x.shape[0], 1))\n",
    "        \n",
    "        u = (x - self.mu)\n",
    "        z = - 1/2.0 * np.dot(np.dot(u.T, self.inv_sigma), u)\n",
    "        norm_factor = (1/((2*np.pi)**(self.mu.shape[0]/2.0)))*(1/np.sqrt(self.det_sigma))\n",
    "        p_x = norm_factor * np.exp(z)\n",
    "        \n",
    "        return float(p_x)"
   ]
  },
  {
   "cell_type": "code",
   "execution_count": 422,
   "metadata": {},
   "outputs": [
    {
     "data": {
      "image/png": "[encoded data removed]",
      "text/plain": [
       "<matplotlib.figure.Figure at 0x7f250421dbe0>"
      ]
     },
     "metadata": {},
     "output_type": "display_data"
    }
   ],
   "source": [
    "#Data set Initialization\n",
    "\n",
    "std = [[0.5, 0.4], [0.4,0.7]]\n",
    "std2 = [[0.7, -0.4], [-0.4,0.5]]\n",
    "c1 = np.random.multivariate_normal([-1, 2], std, 1000);\n",
    "c2 = np.random.multivariate_normal([1.5, -1], std2, 1000);\n",
    "X = np.concatenate([c1,c2])\n",
    "\n",
    "labels = np.ones(1000)\n",
    "labels2 = -1 * np.ones(1000)\n",
    "Y = np.concatenate([labels, labels2])\n",
    "Y = Y.reshape((Y.shape[0], 1))\n",
    "\n",
    "plt.scatter(c1[:,0], c1[:,1], s=1)\n",
    "plt.scatter(c2[:,0], c2[:,1], s=1)\n",
    "plt.show()"
   ]
  },
  {
   "cell_type": "code",
   "execution_count": 425,
   "metadata": {
    "collapsed": true
   },
   "outputs": [],
   "source": [
    "class GaussianMixture:\n",
    "    \"\"\"\n",
    "    Model Mixture of n multivariate Gaussian Distributions\n",
    "    \"\"\"\n",
    "\n",
    "    def __init__(self,\n",
    "                 data,\n",
    "                 clusters=2,\n",
    "                 ):\n",
    "        \"\"\"\n",
    "        Random initialization of mean vector,\n",
    "        Covariance Matrix initialized with Identity Matrix\n",
    "        :param data: Data used by the parameters\n",
    "        :param clusters: Number of clusters to fit the data to\n",
    "        :param mix: Parameter to mix the data.\n",
    "        \"\"\"\n",
    "\n",
    "        self.data = data\n",
    "        self.clusters = clusters\n",
    "        self.dists = {}\n",
    "        self.mix = {}\n",
    "        self.n = self.data.shape[0]\n",
    "        self.d = self.data.shape[1]\n",
    "        self.log_likelihood = 0\n",
    "        mins = np.min(data, axis=0)\n",
    "        maxs = np.max(data, axis=0)\n",
    "        for i in range(clusters):\n",
    "            self.dists[\"dist\" + str(i)] = MultivariateGaussian(random.uniform(mins, maxs).reshape(mins.shape[0], 1),\n",
    "                                                               np.identity(mins.shape[0]))\n",
    "            self.mix[\"dist\" + str(i)] = 1.0/self.clusters\n",
    "\n",
    "    def expectation(self):\n",
    "        \"\"\"\n",
    "        Expectation Step for Gaussian Mixtures\n",
    "        :return: Parameters\n",
    "        \"\"\"\n",
    "        # Initializing dictionary to store probabilities of n clusters\n",
    "        prob_z = {}\n",
    "        probs = {}\n",
    "\n",
    "        self.log_likelihood = 0\n",
    "        for i in range(self.clusters):\n",
    "            probs[\"cluster\" + str(i)] = np.zeros((self.data.shape[0], 1))\n",
    "\n",
    "        for n in range(self.data.shape[0]):\n",
    "\n",
    "            for i in range(self.clusters):\n",
    "                prob_z[\"cluster\" + str(i)] = self.dists[\"dist\" + str(i)].pdf(self.data[n]) * self.mix[\"dist\" + str(i)]\n",
    "\n",
    "            # Normalization Factor\n",
    "            den = sum(prob_z.values())\n",
    "            # Normalize!\n",
    "            sume = 0\n",
    "            for i in range(self.clusters):\n",
    "                prob_z[\"cluster\" + str(i)] /= den\n",
    "                sume += prob_z[\"cluster\" + str(i)]\n",
    "\n",
    "            self.log_likelihood += np.log(sume)\n",
    "\n",
    "            for i in range(self.clusters):\n",
    "                probs[\"cluster\" + str(i)][n] = prob_z[\"cluster\" + str(i)]\n",
    "\n",
    "        return probs\n",
    "\n",
    "    def maximization(self,  probs):\n",
    "\n",
    "        # Updating the means\n",
    "        accu_sigma = {}\n",
    "\n",
    "        for i in range(self.clusters):\n",
    "\n",
    "            den = np.sum(probs[\"cluster\" + str(i)])\n",
    "            self.dists[\"dist\" + str(i)].mu = (np.sum(probs[\"cluster\" + str(i)] * self.data, axis=0,\n",
    "                                                     keepdims=True) / den).T\n",
    "\n",
    "            accu_sigma[\"cluster\" + str(i)] = np.zeros((self.d, self.d))\n",
    "\n",
    "            for j in range(self.n):\n",
    "                u = self.data[j].reshape((self.d, 1)) - self.dists[\"dist\" + str(i)].mu\n",
    "                accu_sigma += probs[\"cluster\" + str(i)][j] * np.dot(u, u.T)\n",
    "\n",
    "            self.dists[\"dist\" + str(i)].sigma = accu_sigma/den\n",
    "            self.mix[\"dist\" + str(i)] = den / self.n"
   ]
  },
  {
   "cell_type": "code",
   "execution_count": null,
   "metadata": {
    "collapsed": true
   },
   "outputs": [],
   "source": []
  },
  {
   "cell_type": "code",
   "execution_count": null,
   "metadata": {
    "collapsed": true
   },
   "outputs": [],
   "source": []
  },
  {
   "cell_type": "code",
   "execution_count": null,
   "metadata": {
    "collapsed": true
   },
   "outputs": [],
   "source": []
  },
  {
   "cell_type": "code",
   "execution_count": 428,
   "metadata": {},
   "outputs": [],
   "source": [
    "mix = GaussianMixture(X, clusters=2)"
   ]
  },
  {
   "cell_type": "code",
   "execution_count": 429,
   "metadata": {},
   "outputs": [],
   "source": [
    "probs = mix.expectation()"
   ]
  },
  {
   "cell_type": "code",
   "execution_count": 430,
   "metadata": {},
   "outputs": [
    {
     "data": {
      "text/plain": [
       "{'cluster0': array([[ 0.00687627],\n",
       "        [ 0.00423936],\n",
       "        [ 0.04365484],\n",
       "        ..., \n",
       "        [ 0.01357838],\n",
       "        [ 0.01049044],\n",
       "        [ 0.00591014]]), 'cluster1': array([[ 0.99312373],\n",
       "        [ 0.99576064],\n",
       "        [ 0.95634516],\n",
       "        ..., \n",
       "        [ 0.98642162],\n",
       "        [ 0.98950956],\n",
       "        [ 0.99408986]])}"
      ]
     },
     "execution_count": 430,
     "metadata": {},
     "output_type": "execute_result"
    }
   ],
   "source": [
    "probs"
   ]
  },
  {
   "cell_type": "code",
   "execution_count": null,
   "metadata": {
    "collapsed": true
   },
   "outputs": [],
   "source": []
  },
  {
   "cell_type": "code",
   "execution_count": null,
   "metadata": {
    "collapsed": true
   },
   "outputs": [],
   "source": []
  },
  {
   "cell_type": "code",
   "execution_count": null,
   "metadata": {
    "collapsed": true
   },
   "outputs": [],
   "source": []
  },
  {
   "cell_type": "code",
   "execution_count": null,
   "metadata": {
    "collapsed": true
   },
   "outputs": [],
   "source": []
  },
  {
   "cell_type": "code",
   "execution_count": null,
   "metadata": {
    "collapsed": true
   },
   "outputs": [],
   "source": []
  },
  {
   "cell_type": "code",
   "execution_count": null,
   "metadata": {
    "collapsed": true
   },
   "outputs": [],
   "source": []
  },
  {
   "cell_type": "code",
   "execution_count": null,
   "metadata": {
    "collapsed": true
   },
   "outputs": [],
   "source": []
  },
  {
   "cell_type": "code",
   "execution_count": null,
   "metadata": {
    "collapsed": true
   },
   "outputs": [],
   "source": []
  },
  {
   "cell_type": "code",
   "execution_count": null,
   "metadata": {
    "collapsed": true
   },
   "outputs": [],
   "source": []
  },
  {
   "cell_type": "code",
   "execution_count": null,
   "metadata": {
    "collapsed": true
   },
   "outputs": [],
   "source": []
  },
  {
   "cell_type": "code",
   "execution_count": null,
   "metadata": {
    "collapsed": true
   },
   "outputs": [],
   "source": []
  },
  {
   "cell_type": "code",
   "execution_count": null,
   "metadata": {
    "collapsed": true
   },
   "outputs": [],
   "source": []
  },
  {
   "cell_type": "markdown",
   "metadata": {},
   "source": [
    "## Part 4:\n",
    "\n",
    "Now, that you have the concept of k-Cross Validation and Confusion Matrix. Please using\n",
    "your previous algorithms\n",
    "\n",
    "1. Linear Regression under Gradient Descent\n",
    "2. Logistic Regression under Newton-Raphson\n",
    "\n",
    "and data sets, please divide the data sets in training, validation and testing data sets and\n",
    "provide the results for your previous experiments in terms of\n",
    "1. Confusion Matrix\n",
    "2. Accuracy and $F_1$ score\n",
    "3. ROC curves"
   ]
  },
  {
   "cell_type": "code",
   "execution_count": null,
   "metadata": {
    "collapsed": true
   },
   "outputs": [],
   "source": []
  }
 ],
 "metadata": {
  "kernelspec": {
   "display_name": "Python 3",
   "language": "python",
   "name": "python3"
  },
  "language_info": {
   "codemirror_mode": {
    "name": "ipython",
    "version": 3
   },
   "file_extension": ".py",
   "mimetype": "text/x-python",
   "name": "python",
   "nbconvert_exporter": "python",
   "pygments_lexer": "ipython3",
   "version": "3.6.1"
  }
 },
 "nbformat": 4,
 "nbformat_minor": 2
}
