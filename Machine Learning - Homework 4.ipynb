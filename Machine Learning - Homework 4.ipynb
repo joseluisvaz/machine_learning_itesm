{
 "cells": [
  {
   "cell_type": "markdown",
   "metadata": {},
   "source": [
    "# Machine Learning: Homework 4 - Jose Vazquez-Espinoza\n",
    "\n",
    "Algorithm's implementation in: https://github.com/"
   ]
  },
  {
   "cell_type": "code",
   "execution_count": 1,
   "metadata": {
    "collapsed": true
   },
   "outputs": [],
   "source": [
    "import numpy as np\n",
    "import math\n",
    "import matplotlib.mlab as mlab\n",
    "import matplotlib.pyplot as plt\n",
    "import matplotlib\n",
    "import random\n",
    "from scipy.stats import multivariate_normal\n",
    "from sklearn.model_selection import train_test_split #Just to separate train and test set\n",
    "%matplotlib inline\n",
    "\n",
    "#Implementation of Own Algorithm\n",
    "from ML_Algorithms import GaussianMixtures as gm\n",
    "from ML_Algorithms import Optimization_methods as om\n",
    "from ML_Algorithms import Classifiers\n",
    "from ML_Algorithms import metrics\n",
    "from ML_Algorithms import Logistic_Regression as logreg\n",
    "from ML_Algorithms import utils"
   ]
  },
  {
   "cell_type": "markdown",
   "metadata": {},
   "source": [
    "## Part 1 (BISHOP):\n",
    "\n",
    "5.5 ) how that maximazing likelihood for a multiclass neural network model in which the network outputs have the interpretation $y_k(\\mathbf{x}, \\mathbf{w}) = p(t_k = 1 \\mid x)$ is equivalent to the minimization of the cross-entropy error function \n",
    "$$ E(\\mathbf{w})= -\\sum_{n=1}^N \\sum_{k=1}^K t_{kn} \\ln y_k (\\mathbf{x}_n, \\mathbf{w})$$"
   ]
  },
  {
   "cell_type": "markdown",
   "metadata": {},
   "source": [
    "\n",
    "5.10 ) Consider a Hessian matrix $\\mathbf{H}$ with eigenvector equation\n",
    "\n",
    "$$ \\mathbf{H u}_i = \\lambda_i \\mathbf{u}_i$$\n",
    "\n",
    "By setting the vector $\\mathbf{v}$ in\n",
    "\n",
    "$$\\mathbf{v}^T \\mathbf{Hv} = \\sum_i c_i^2 \\lambda_i$$\n",
    "\n",
    "equal to each of the eigenvectors $\\mathbf{u}_i$ in turn, show that $\\mathbf{H}$ is positive definite if, and only if, all of its eigenvalues are positive.\n"
   ]
  },
  {
   "cell_type": "markdown",
   "metadata": {},
   "source": [
    "9.4 )\n",
    "uppose we wish to use EM algorithm to maximize the posterior distribution over parameters $p(\\theta|X)$ for a model containing latent variables, where $X$ is observed data set. Show that E step remains the same as in the maximum likelihood case, whereas in the M step the quantity to be maximized is given by $$\\vartheta(\\theta,\\theta^{old}+\\ln p(\\theta))$$ where $$\\vartheta(\\theta,\\theta^{old})$$ is defined by \n",
    "\n",
    "$$Q(\\mathbf{\\theta, \\theta}^{old}) = \\sum_{\\mathbf{z}} p (\\mathbf{Z} | \\mathbf{X, \\theta}^{old}) \\ln p(\\mathbf{X}, \\mathbf{Z} | \\mathbf{\\theta})$$"
   ]
  },
  {
   "cell_type": "markdown",
   "metadata": {},
   "source": [
    "9.11 )\n",
    "In section 9.3.2 we obtained a relationship between $K$ means and EM for Gaussian Mixture by considering a mixture model in which all components have covariance $\\epsilon I$. Show that in the limit $\\epsilon \\rightarrow 0$, maximize the expected complete data log likelihood for his model, given by\n",
    "\n",
    "$$\\mathop{\\mathbb{E_z}} = \\lbrack \\ln p(\\mathbf{X,Z | \\mu, \\Sigma, \\pi}) \\rbrack = \\sum_{n=1}^N \\sum_{k=1}^K \\gamma(z_{nk}) \\{ \\ln \\pi_k + \\ln \\mathscr{N}( \\mathbf{x_n | \\mu_k, \\Sigma_k)}\\} $$\n",
    "\n",
    "is equivalent to minimizing the distortion measure $J$ for the K-means algorithm given by \n",
    "\n",
    "$$J = \\sum_{n=1}^N \\sum_{k=1}^K r_{nk} || \\mathbf{x}_n - \\mathbf{\\mu}_k ||^2 $$"
   ]
  },
  {
   "cell_type": "markdown",
   "metadata": {},
   "source": [
    "9.15 ) Show that if we maximize the expected complete-data log likelihood function \n",
    "(9.55) \n",
    "\n",
    "$$ \\mathop{\\mathbb{E_z}} = \\lbrack \\ln p(\\mathbf{X,Z | \\mu, \\pi}) \\rbrack = \\sum_{n=1}^N \\sum_{k=1}^K \\gamma(z_{nk}) \\big\\{ \\ln \\pi_k + \\sum_{i=1}^D \\lbrack x_{ni} \\ln \\mu_{ki} + (1 - x_{ni}) \\ln (1 - \\mu_ {ki} ) \\rbrack   \\big\\} $$\n",
    "\n",
    "for a mixture of Bernoulli distribution with respect to $\\mu_k$, we obtain the M step equation\n",
    "\n",
    "$$\\pi_k = \\frac{N_k}{N}$$"
   ]
  },
  {
   "cell_type": "markdown",
   "metadata": {},
   "source": [
    "## Part 2 (HAYKIN):\n",
    "\n",
    "4.4 ) The momentum constant ()' is normally assigned a positive value in the range $0 \\leq \\alpha < 1$.\n",
    "Investigate the difference that would be made in the behavior of \n",
    "\n",
    "\n",
    "$$\\delta w_{ji} (n) = - \\eta \\sum_{t=0}^n \\alpha ^{n-t} \\frac{\\partial \\mathscr{E}(t)}{\\partial w_{ji}(t)}$$\n",
    "\n",
    "\n",
    "with respect to time t if $\\alpha$ was assigned a negative value in the range $-1 \\leq \\alpha < 0$."
   ]
  },
  {
   "cell_type": "markdown",
   "metadata": {
    "collapsed": true
   },
   "source": [
    "4.6 ) In Section 4.7 we presented qualitative arguments for the property of a multilayer per-ceptron classifier (using a logistic function for nonlinearity) that its outputs provide estimates of the a posteriori class probabilities. This property assumes that the size of the training set is large enough, and that the back-propagation algorithm used to train the network does not get stuck at a local minimum. Fill in the mathematical details of this property."
   ]
  },
  {
   "cell_type": "markdown",
   "metadata": {
    "collapsed": true
   },
   "source": [
    "6.6 ) The inner-product kernel kernel $K(X_{i}, K_{j})$ is evaluated over a training sample $\\mathscr{T}$ of size N, yield-ing the N-by-N matrix: \n",
    "$$K = \\left \\{ K_{ij} \\right \\}_{i,j=1}^{N}$$\n",
    "\n",
    "where $K_{ij} = K(X_{i},X_{j})$. The matrix K is positive in that all of its elements have positive values. Using the similarity transformation: \n",
    "\n",
    "$$K = Q \\Delta Q^{T}$$\n",
    "\n",
    "where $\\Delta$ is a diagonal matrix of eigenvalues and Q is a matrix made up of the corresponding eigenvectors, formulate an expression for the inner-product kernel $K(X_{i}, X_{j})$ in terms of the eigenvalues and eigenvectors of matrix K. What conclusions can you draw from this representation?"
   ]
  },
  {
   "cell_type": "markdown",
   "metadata": {
    "collapsed": true
   },
   "source": [
    "6.13 ) Compare the virtues and limitations of support vector machines with those of radial-basis function (RBF) networks with respect to the following task: \n",
    "\n",
    "* (1) Pattern classification \n",
    "* (2) Nonlinear regression . \n",
    "\n",
    "Do the same for support vector machines versus multilayer perceptron trained using the back propagation algorithm\n"
   ]
  },
  {
   "cell_type": "markdown",
   "metadata": {},
   "source": [
    "6.15 ) The computer experiment described in section 6.6 was for the classification of two overlapping Gaussian Distributions. The following \"regularization\" parameter was used in that experiment: C = 0.1 The common width of the radial-basis functions used for con-structing the inner-product kernels was $\\sigma ^{2} = 4$. Repeat the computer experiment described in that section for the following two values of the regularization parameter:\n",
    "\n",
    "* C = 0.05\n",
    "* C = 0.2"
   ]
  },
  {
   "cell_type": "markdown",
   "metadata": {},
   "source": [
    "## Part 3:"
   ]
  },
  {
   "cell_type": "markdown",
   "metadata": {},
   "source": [
    "Implement the SVM using cv xopt for the quadratic optimization under linear constrains using the\n",
    "\n",
    "* (a) Using the voice data set, please perform the K - Cross Validation and report using ROC curves under the following kernels. \n",
    "\n",
    "    * 1. Polynomial Kernel $K(\\mathbf{x}_i, \\mathbf{x}_j) = (\\mathbf{x}_i^T \\mathbf{x}_i + 1)^P $ with p defined before hand.\n",
    "    * 2. Radial Kernel $K(\\mathbf{x}_i, \\mathbf{x}_j) = \\exp \\big\\{ - \\frac{1}{2 \\sigma^2} || \\mathbf{x}_i - \\mathbf{x}_j ||^2\\big\\}$ with $\\sigma^2$ defined before hand."
   ]
  },
  {
   "cell_type": "markdown",
   "metadata": {},
   "source": [
    "## Part 4:"
   ]
  },
  {
   "cell_type": "markdown",
   "metadata": {},
   "source": [
    "Implement the multi-layer perceptron using sstochastic gradient descent and batch using the cross-entropy cost function and the ReLu activation function\n",
    "\n",
    "* (a) Using the voice data set, please perfeorm the K-Cross Validation to compare both algorithms. Report using ROC curves annd times of convergence in number of steps"
   ]
  },
  {
   "cell_type": "code",
   "execution_count": 21,
   "metadata": {},
   "outputs": [
    {
     "data": {
      "image/png": "[encoded data removed]",
      "text/plain": [
       "<matplotlib.figure.Figure at 0x7fc1f86ab160>"
      ]
     },
     "metadata": {},
     "output_type": "display_data"
    }
   ],
   "source": [
    "rocstrain1 = clf.roc(X_train, y_train)\n",
    "rocstest1 = clf.roc(X_test, y_test)\n",
    "rocstrain2 = clf2.roc(X_train, y_train)\n",
    "rocstest2 = clf2.roc(X_test, y_test)\n",
    "\n",
    "f, axarr = plt.subplots(1, 2, figsize=(12,5))\n",
    "axarr[0].plot(rocstrain1[:,0], rocstrain1[:,1])\n",
    "axarr[0].plot(rocstest1[:,0], rocstest1[:,1])\n",
    "axarr[0].set_title(\"Linear Regression\")\n",
    "axarr[0].set_xlabel(\"1-Specificity\")\n",
    "axarr[0].set_ylabel(\"Sensitivity\")\n",
    "axarr[1].plot(rocstrain2[:,0], rocstrain2[:,1])\n",
    "axarr[1].plot(rocstest2[:,0], rocstest2[:,1])\n",
    "axarr[1].set_title(\"Logistic Regression\")\n",
    "axarr[1].set_xlabel(\"1-Specificity\")\n",
    "axarr[1].set_ylabel(\"Sensitivity\")\n",
    "plt.show()"
   ]
  }
 ],
 "metadata": {
  "kernelspec": {
   "display_name": "Python 2",
   "language": "python",
   "name": "python2"
  },
  "language_info": {
   "codemirror_mode": {
    "name": "ipython",
    "version": 2
   },
   "file_extension": ".py",
   "mimetype": "text/x-python",
   "name": "python",
   "nbconvert_exporter": "python",
   "pygments_lexer": "ipython2",
   "version": "2.7.13"
  }
 },
 "nbformat": 4,
 "nbformat_minor": 2
}
